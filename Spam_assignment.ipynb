{
  "nbformat": 4,
  "nbformat_minor": 0,
  "metadata": {
    "colab": {
      "name": "Spam_assignment.ipynb",
      "provenance": [],
      "collapsed_sections": [],
      "include_colab_link": true
    },
    "kernelspec": {
      "display_name": "Python 3",
      "name": "python3"
    },
    "accelerator": "GPU"
  },
  "cells": [
    {
      "cell_type": "markdown",
      "metadata": {
        "id": "view-in-github",
        "colab_type": "text"
      },
      "source": [
        "<a href=\"https://colab.research.google.com/github/EnoshNyarige/spam_model_deployment/blob/master/Spam_assignment.ipynb\" target=\"_parent\"><img src=\"https://colab.research.google.com/assets/colab-badge.svg\" alt=\"Open In Colab\"/></a>"
      ]
    },
    {
      "cell_type": "code",
      "metadata": {
        "id": "XAdPWZJeuxEE"
      },
      "source": [
        "import pandas as pd\n",
        "import numpy as np"
      ],
      "execution_count": 1,
      "outputs": []
    },
    {
      "cell_type": "code",
      "metadata": {
        "colab": {
          "base_uri": "https://localhost:8080/"
        },
        "id": "p0TQWU4QTSkx",
        "outputId": "755bfed0-2501-4c4f-cc80-5973ea41d084"
      },
      "source": [
        "from google.colab import drive\n",
        "drive.mount('/content/gdrive')"
      ],
      "execution_count": 2,
      "outputs": [
        {
          "output_type": "stream",
          "text": [
            "Mounted at /content/gdrive\n"
          ],
          "name": "stdout"
        }
      ]
    },
    {
      "cell_type": "code",
      "metadata": {
        "id": "CXF2rQ8tVQTC"
      },
      "source": [
        "# ! ls \"/content/gdrive/My Drive\""
      ],
      "execution_count": 3,
      "outputs": []
    },
    {
      "cell_type": "code",
      "metadata": {
        "id": "bzNGHRDFv6-9"
      },
      "source": [
        "df = pd.read_csv(\"/content/gdrive/My Drive/spam_or_not_spam_dataset/spam_or_not_spam.csv\")"
      ],
      "execution_count": 4,
      "outputs": []
    },
    {
      "cell_type": "code",
      "metadata": {
        "colab": {
          "base_uri": "https://localhost:8080/",
          "height": 195
        },
        "id": "Q2mno509wMu2",
        "outputId": "1630fd5a-8939-4058-ac7d-c740a600cdb1"
      },
      "source": [
        "df.head()"
      ],
      "execution_count": 5,
      "outputs": [
        {
          "output_type": "execute_result",
          "data": {
            "text/html": [
              "<div>\n",
              "<style scoped>\n",
              "    .dataframe tbody tr th:only-of-type {\n",
              "        vertical-align: middle;\n",
              "    }\n",
              "\n",
              "    .dataframe tbody tr th {\n",
              "        vertical-align: top;\n",
              "    }\n",
              "\n",
              "    .dataframe thead th {\n",
              "        text-align: right;\n",
              "    }\n",
              "</style>\n",
              "<table border=\"1\" class=\"dataframe\">\n",
              "  <thead>\n",
              "    <tr style=\"text-align: right;\">\n",
              "      <th></th>\n",
              "      <th>email</th>\n",
              "      <th>label</th>\n",
              "    </tr>\n",
              "  </thead>\n",
              "  <tbody>\n",
              "    <tr>\n",
              "      <th>0</th>\n",
              "      <td>date wed NUMBER aug NUMBER NUMBER NUMBER NUMB...</td>\n",
              "      <td>0</td>\n",
              "    </tr>\n",
              "    <tr>\n",
              "      <th>1</th>\n",
              "      <td>martin a posted tassos papadopoulos the greek ...</td>\n",
              "      <td>0</td>\n",
              "    </tr>\n",
              "    <tr>\n",
              "      <th>2</th>\n",
              "      <td>man threatens explosion in moscow thursday aug...</td>\n",
              "      <td>0</td>\n",
              "    </tr>\n",
              "    <tr>\n",
              "      <th>3</th>\n",
              "      <td>klez the virus that won t die already the most...</td>\n",
              "      <td>0</td>\n",
              "    </tr>\n",
              "    <tr>\n",
              "      <th>4</th>\n",
              "      <td>in adding cream to spaghetti carbonara which ...</td>\n",
              "      <td>0</td>\n",
              "    </tr>\n",
              "  </tbody>\n",
              "</table>\n",
              "</div>"
            ],
            "text/plain": [
              "                                               email  label\n",
              "0   date wed NUMBER aug NUMBER NUMBER NUMBER NUMB...      0\n",
              "1  martin a posted tassos papadopoulos the greek ...      0\n",
              "2  man threatens explosion in moscow thursday aug...      0\n",
              "3  klez the virus that won t die already the most...      0\n",
              "4   in adding cream to spaghetti carbonara which ...      0"
            ]
          },
          "metadata": {
            "tags": []
          },
          "execution_count": 5
        }
      ]
    },
    {
      "cell_type": "code",
      "metadata": {
        "colab": {
          "base_uri": "https://localhost:8080/"
        },
        "id": "6iS912jCwOP4",
        "outputId": "59b8b421-7559-4693-f9e0-f98fd31972cc"
      },
      "source": [
        "import re\n",
        "import nltk\n",
        "from keras.layers import Flatten, Dense\n",
        "from keras.layers import Embedding,LSTM\n",
        "from keras.models import Sequential\n",
        "from keras import preprocessing\n",
        "from keras.preprocessing.text import Tokenizer\n",
        "nltk.download('stopwords')"
      ],
      "execution_count": 6,
      "outputs": [
        {
          "output_type": "stream",
          "text": [
            "[nltk_data] Downloading package stopwords to /root/nltk_data...\n",
            "[nltk_data]   Unzipping corpora/stopwords.zip.\n"
          ],
          "name": "stdout"
        },
        {
          "output_type": "execute_result",
          "data": {
            "text/plain": [
              "True"
            ]
          },
          "metadata": {
            "tags": []
          },
          "execution_count": 6
        }
      ]
    },
    {
      "cell_type": "code",
      "metadata": {
        "colab": {
          "base_uri": "https://localhost:8080/"
        },
        "id": "f2MKHRgNwRZD",
        "outputId": "cf3ea0e4-faad-4092-e933-41c5c752a08c"
      },
      "source": [
        "df['label'].value_counts()"
      ],
      "execution_count": 7,
      "outputs": [
        {
          "output_type": "execute_result",
          "data": {
            "text/plain": [
              "0    2500\n",
              "1     500\n",
              "Name: label, dtype: int64"
            ]
          },
          "metadata": {
            "tags": []
          },
          "execution_count": 7
        }
      ]
    },
    {
      "cell_type": "markdown",
      "metadata": {
        "id": "9ndzYYBlK2HK"
      },
      "source": [
        "we have 500 hams and 2500 spams"
      ]
    },
    {
      "cell_type": "code",
      "metadata": {
        "id": "oezCKUpJwZM9"
      },
      "source": [
        "from sklearn.model_selection import train_test_split"
      ],
      "execution_count": 8,
      "outputs": []
    },
    {
      "cell_type": "code",
      "metadata": {
        "id": "C4uOiAp5wcq-"
      },
      "source": [
        "from sklearn.feature_extraction.text import TfidfVectorizer, CountVectorizer\n",
        "import gensim"
      ],
      "execution_count": 9,
      "outputs": []
    },
    {
      "cell_type": "code",
      "metadata": {
        "id": "KU1FO3JKIVna"
      },
      "source": [
        "X = df['email'].fillna(' ')\n",
        "y = df['label']"
      ],
      "execution_count": 10,
      "outputs": []
    },
    {
      "cell_type": "code",
      "metadata": {
        "id": "WEnDbc1iNg8O"
      },
      "source": [
        "# X = df['email'].values\n",
        "# y = df['label'].values"
      ],
      "execution_count": 11,
      "outputs": []
    },
    {
      "cell_type": "code",
      "metadata": {
        "id": "l24Up9PAIN4l"
      },
      "source": [
        "def preprocess(text):\n",
        "    text = text.str.lower()\n",
        "    text = text.str.replace(r'\\r', ' ')\n",
        "    text = text.str.replace(r'\\n', ' ')\n",
        "    text = text.str.replace('[^a-zA-Z0-9]', ' ')\n",
        "    return text"
      ],
      "execution_count": 12,
      "outputs": []
    },
    {
      "cell_type": "code",
      "metadata": {
        "id": "9QUEvbl8Ic3C"
      },
      "source": [
        "x = preprocess(X)\n",
        "x = x.values\n",
        "y = y.values"
      ],
      "execution_count": 13,
      "outputs": []
    },
    {
      "cell_type": "code",
      "metadata": {
        "id": "6Mos2JNyIcqk"
      },
      "source": [
        "from sklearn.model_selection import train_test_split\n",
        "xtrain, xtest, ytrain, ytest = train_test_split(x, y, test_size = 0.2, random_state=0, shuffle = True, stratify= df['label'])\n",
        "# xtrain"
      ],
      "execution_count": 14,
      "outputs": []
    },
    {
      "cell_type": "code",
      "metadata": {
        "id": "Nx1Fn_PNIq7r"
      },
      "source": [
        "# xtest"
      ],
      "execution_count": 15,
      "outputs": []
    },
    {
      "cell_type": "code",
      "metadata": {
        "id": "OUm5mbaqIq4i"
      },
      "source": [
        "from keras.preprocessing.text import Tokenizer\n",
        "from keras.preprocessing.sequence import pad_sequences\n",
        "\n",
        "def tokenizer_sequences(X):\n",
        "    tokenizer = Tokenizer()\n",
        "    tokenizer.fit_on_texts(X)\n",
        "    sequences = len(tokenizer.word_index) + 1\n",
        "    \n",
        "    return tokenizer, sequences"
      ],
      "execution_count": 16,
      "outputs": []
    },
    {
      "cell_type": "code",
      "metadata": {
        "id": "kl8BWM6OIq0S"
      },
      "source": [
        "tokenizer, sequences = tokenizer_sequences(xtrain)"
      ],
      "execution_count": 17,
      "outputs": []
    },
    {
      "cell_type": "code",
      "metadata": {
        "colab": {
          "base_uri": "https://localhost:8080/"
        },
        "id": "dmReljbRIqwS",
        "outputId": "9c7e9409-febd-49f9-eced-5a7384e399d8"
      },
      "source": [
        "# integer encode the documents\n",
        "train_set_encoded = tokenizer.texts_to_sequences(xtrain)\n",
        "test_set_encoded = tokenizer.texts_to_sequences(xtest)\n",
        "print(train_set_encoded[0:2])"
      ],
      "execution_count": 18,
      "outputs": [
        {
          "output_type": "stream",
          "text": [
            "[[4617, 39, 21, 2032, 633, 3, 45, 11, 8, 232, 6, 667, 181, 94, 36, 4617, 718, 200, 304, 23, 410, 6, 851, 1170, 379, 13, 257, 20, 78, 4617, 1, 4617, 634, 39, 1238, 870, 46, 81, 1, 3, 76, 12, 2, 181, 2, 4617, 1171, 317, 3, 19, 3, 285, 2, 95, 45, 12, 179, 121, 302, 4617, 3, 20, 6, 466, 4303, 3, 103, 614, 12, 49, 6, 536, 41, 39, 4617, 109, 285, 13, 14, 6, 200, 18, 1073, 5, 799, 1, 1381, 4617, 2033, 1330, 58, 11943, 12, 819, 1331, 81, 70, 53, 8, 97, 7, 40, 568, 600, 34, 11, 371, 5, 436, 3, 8284, 51, 1412, 11944, 8, 102, 506, 39, 437, 2, 1469, 6509, 6510, 213, 43, 5, 133, 8285, 16016, 11, 39, 8286, 1470, 14, 5893, 339, 60, 101, 4, 492, 16, 168, 2604, 70, 13, 102, 2076, 51, 183, 10, 39, 98, 1870, 39, 71, 23, 121, 3, 45, 15, 4, 506, 81, 2, 5894, 800, 58, 18, 36, 16017, 495, 5, 5895, 2, 1526, 16018, 39, 4618, 1870, 1720, 60, 15, 22, 204, 388, 9, 275, 204, 388, 9, 16, 801, 5, 788, 9, 41, 8, 48, 6, 181, 22, 8287, 2209, 190, 8288, 25, 39, 98, 425, 69, 1871, 51, 39, 583, 3, 2, 1332, 5, 3472, 51, 3837, 8289, 4, 8290, 6, 181, 49, 3, 3043, 70, 14, 6, 553, 1, 1, 39, 613, 1238, 46, 81, 15, 49, 383, 2, 2077, 802, 193, 2, 1382, 45, 302, 2605, 3, 45, 15, 2702, 8, 572, 389, 23, 47, 6, 1383, 146, 7, 1020, 5, 573, 4619, 8, 71, 23, 113, 8, 4620, 2, 1, 32, 8, 205, 25, 1382, 63, 20, 2932, 1122, 658, 7, 4968, 5, 148, 2078, 7342, 8, 75, 1972, 2703, 16, 15, 362, 8, 71, 23, 119, 521, 3, 3473, 2, 181, 3044, 13, 26, 457, 13, 7, 363, 8, 105, 161, 6, 104, 3, 586, 3, 1221, 41, 39, 20, 3, 1567, 46, 95, 16, 1123, 70, 40, 1, 7343, 138, 1, 111, 420, 277, 2286, 1973, 536, 5, 13, 10, 8, 1046, 23, 111, 84, 6, 221, 329, 101, 347, 8291, 2210, 169, 825, 788, 275, 788, 9, 169, 825, 788, 275, 788, 9], [9, 9, 89, 1, 1, 226, 1, 1, 1, 1, 65, 1194, 7, 258, 5, 5413, 1092, 16019, 1384, 16020]]\n"
          ],
          "name": "stdout"
        }
      ]
    },
    {
      "cell_type": "code",
      "metadata": {
        "id": "_Q-bHW2i_PTM"
      },
      "source": [
        "import pickle\n",
        "# saving\n",
        "with open('vec_tokenizer.sav', 'wb') as handle:\n",
        "    pickle.dump(tokenizer, handle, protocol=pickle.HIGHEST_PROTOCOL)"
      ],
      "execution_count": 19,
      "outputs": []
    },
    {
      "cell_type": "code",
      "metadata": {
        "id": "Wvoxj_X6--kS"
      },
      "source": [
        "max_length = 6\n",
        "padded_train_set = pad_sequences(train_set_encoded, maxlen=max_length, padding='post')\n",
        "padded_test_set = pad_sequences(test_set_encoded, maxlen=max_length, padding='post')\n",
        "# print(padded_test_set)"
      ],
      "execution_count": 20,
      "outputs": []
    },
    {
      "cell_type": "code",
      "metadata": {
        "colab": {
          "base_uri": "https://localhost:8080/"
        },
        "id": "KSnna4eIXBdL",
        "outputId": "31d6e503-aa68-460d-b452-e424cc47efb3"
      },
      "source": [
        "!wget http://nlp.stanford.edu/data/glove.6B.zip"
      ],
      "execution_count": 25,
      "outputs": [
        {
          "output_type": "stream",
          "text": [
            "--2020-12-07 11:25:37--  http://nlp.stanford.edu/data/glove.6B.zip\n",
            "Resolving nlp.stanford.edu (nlp.stanford.edu)... 171.64.67.140\n",
            "Connecting to nlp.stanford.edu (nlp.stanford.edu)|171.64.67.140|:80... connected.\n",
            "HTTP request sent, awaiting response... 302 Found\n",
            "Location: https://nlp.stanford.edu/data/glove.6B.zip [following]\n",
            "--2020-12-07 11:25:37--  https://nlp.stanford.edu/data/glove.6B.zip\n",
            "Connecting to nlp.stanford.edu (nlp.stanford.edu)|171.64.67.140|:443... connected.\n",
            "HTTP request sent, awaiting response... 301 Moved Permanently\n",
            "Location: http://downloads.cs.stanford.edu/nlp/data/glove.6B.zip [following]\n",
            "--2020-12-07 11:25:37--  http://downloads.cs.stanford.edu/nlp/data/glove.6B.zip\n",
            "Resolving downloads.cs.stanford.edu (downloads.cs.stanford.edu)... 171.64.64.22\n",
            "Connecting to downloads.cs.stanford.edu (downloads.cs.stanford.edu)|171.64.64.22|:80... connected.\n",
            "HTTP request sent, awaiting response... 200 OK\n",
            "Length: 862182613 (822M) [application/zip]\n",
            "Saving to: ‘glove.6B.zip’\n",
            "\n",
            "glove.6B.zip        100%[===================>] 822.24M  2.08MB/s    in 6m 27s  \n",
            "\n",
            "2020-12-07 11:32:04 (2.12 MB/s) - ‘glove.6B.zip’ saved [862182613/862182613]\n",
            "\n"
          ],
          "name": "stdout"
        }
      ]
    },
    {
      "cell_type": "code",
      "metadata": {
        "colab": {
          "base_uri": "https://localhost:8080/"
        },
        "id": "YvDCusMfXbML",
        "outputId": "9e3fcc9a-aa06-462f-9aac-4a3483690d7b"
      },
      "source": [
        "!unzip glove*.zip"
      ],
      "execution_count": 26,
      "outputs": [
        {
          "output_type": "stream",
          "text": [
            "Archive:  glove.6B.zip\n",
            "  inflating: glove.6B.50d.txt        \n",
            "  inflating: glove.6B.100d.txt       \n",
            "  inflating: glove.6B.200d.txt       \n",
            "  inflating: glove.6B.300d.txt       \n"
          ],
          "name": "stdout"
        }
      ]
    },
    {
      "cell_type": "code",
      "metadata": {
        "colab": {
          "base_uri": "https://localhost:8080/"
        },
        "id": "A5FJ0HJ5Y8Z1",
        "outputId": "f9790994-35be-499e-c1a6-784b82878f92"
      },
      "source": [
        "!ls"
      ],
      "execution_count": 27,
      "outputs": [
        {
          "output_type": "stream",
          "text": [
            "gdrive\t\t   glove.6B.200d.txt  glove.6B.50d.txt\tsample_data\n",
            "glove.6B.100d.txt  glove.6B.300d.txt  glove.6B.zip\tvec_tokenizer.sav\n"
          ],
          "name": "stdout"
        }
      ]
    },
    {
      "cell_type": "code",
      "metadata": {
        "colab": {
          "base_uri": "https://localhost:8080/"
        },
        "id": "uwGyr1ZBa6r7",
        "outputId": "6f4fdaf9-de27-4027-dae9-e098fb43a7b6"
      },
      "source": [
        "# load the whole embedding into memory\n",
        "embeddingz = {}\n",
        "f = open('/content/glove.6B.50d.txt', encoding='utf-8')\n",
        "\n",
        "for line in f:\n",
        "    values = line.split()\n",
        "    word = values[0]\n",
        "    coefs = np.asarray(values[1:], dtype='float32')\n",
        "    embeddingz[word] = coefs\n",
        "f.close()\n",
        "print('Loaded %s word vectors.' % len(embeddingz))"
      ],
      "execution_count": 30,
      "outputs": [
        {
          "output_type": "stream",
          "text": [
            "Loaded 400000 word vectors.\n"
          ],
          "name": "stdout"
        }
      ]
    },
    {
      "cell_type": "code",
      "metadata": {
        "id": "_UC1KENxh9wx"
      },
      "source": [
        "#weight matrix of words in training docs\n",
        "embedding_matrix = np.zeros((sequences, 50))\n",
        "len(embedding_matrix)\n",
        "for word, i in tokenizer.word_index.items():\n",
        "\tembedding_vector = embeddingz.get(word)\n",
        "\tif embedding_vector is not None:\n",
        "\t\tembedding_matrix[i] = embedding_vector "
      ],
      "execution_count": 32,
      "outputs": []
    },
    {
      "cell_type": "code",
      "metadata": {
        "id": "K4_LiLB4l_wo"
      },
      "source": [
        "from keras.optimizers import Adam\n",
        "opt = Adam(lr = 0.001)\n",
        "loss = 'binary_crossentropy'"
      ],
      "execution_count": 33,
      "outputs": []
    },
    {
      "cell_type": "code",
      "metadata": {
        "colab": {
          "base_uri": "https://localhost:8080/"
        },
        "id": "6ujwrtPtl_rI",
        "outputId": "9b37852d-1165-4c05-d453-f50dbb2b42b8"
      },
      "source": [
        "model = Sequential()\n",
        "model.add(Embedding(sequences, 50, weights=[embedding_matrix], input_length=6))\n",
        "model.add(Flatten())\n",
        "model.add(Dense(10, activation= 'relu'))\n",
        "model.add(Dense(1, activation= 'sigmoid' ))\n",
        "# compile network\n",
        "model.compile(optimizer=opt, loss = loss, metrics=['accuracy'])\n",
        "# summarize defined model\n",
        "model.summary()"
      ],
      "execution_count": 35,
      "outputs": [
        {
          "output_type": "stream",
          "text": [
            "Model: \"sequential_1\"\n",
            "_________________________________________________________________\n",
            "Layer (type)                 Output Shape              Param #   \n",
            "=================================================================\n",
            "embedding_1 (Embedding)      (None, 6, 50)             1516100   \n",
            "_________________________________________________________________\n",
            "flatten (Flatten)            (None, 300)               0         \n",
            "_________________________________________________________________\n",
            "dense (Dense)                (None, 10)                3010      \n",
            "_________________________________________________________________\n",
            "dense_1 (Dense)              (None, 1)                 11        \n",
            "=================================================================\n",
            "Total params: 1,519,121\n",
            "Trainable params: 1,519,121\n",
            "Non-trainable params: 0\n",
            "_________________________________________________________________\n"
          ],
          "name": "stdout"
        }
      ]
    },
    {
      "cell_type": "code",
      "metadata": {
        "colab": {
          "base_uri": "https://localhost:8080/"
        },
        "id": "p3n3PdAal_d4",
        "outputId": "2465f19b-968a-40f8-da2d-17fd1056a785"
      },
      "source": [
        "#Fitting the data into the model\n",
        "model.fit(padded_train_set, ytrain, epochs=100, verbose=1)"
      ],
      "execution_count": 36,
      "outputs": [
        {
          "output_type": "stream",
          "text": [
            "Epoch 1/100\n",
            "75/75 [==============================] - 1s 13ms/step - loss: 0.5729 - accuracy: 0.7237\n",
            "Epoch 2/100\n",
            "75/75 [==============================] - 1s 13ms/step - loss: 0.3356 - accuracy: 0.8696\n",
            "Epoch 3/100\n",
            "75/75 [==============================] - 1s 13ms/step - loss: 0.2609 - accuracy: 0.9017\n",
            "Epoch 4/100\n",
            "75/75 [==============================] - 1s 12ms/step - loss: 0.2058 - accuracy: 0.9271\n",
            "Epoch 5/100\n",
            "75/75 [==============================] - 1s 13ms/step - loss: 0.1634 - accuracy: 0.9446\n",
            "Epoch 6/100\n",
            "75/75 [==============================] - 1s 13ms/step - loss: 0.1309 - accuracy: 0.9592\n",
            "Epoch 7/100\n",
            "75/75 [==============================] - 1s 13ms/step - loss: 0.1058 - accuracy: 0.9638\n",
            "Epoch 8/100\n",
            "75/75 [==============================] - 1s 13ms/step - loss: 0.0881 - accuracy: 0.9692\n",
            "Epoch 9/100\n",
            "75/75 [==============================] - 1s 13ms/step - loss: 0.0729 - accuracy: 0.9742\n",
            "Epoch 10/100\n",
            "75/75 [==============================] - 1s 13ms/step - loss: 0.0653 - accuracy: 0.9746\n",
            "Epoch 11/100\n",
            "75/75 [==============================] - 1s 13ms/step - loss: 0.0600 - accuracy: 0.9733\n",
            "Epoch 12/100\n",
            "75/75 [==============================] - 1s 13ms/step - loss: 0.0526 - accuracy: 0.9796\n",
            "Epoch 13/100\n",
            "75/75 [==============================] - 1s 12ms/step - loss: 0.0479 - accuracy: 0.9804\n",
            "Epoch 14/100\n",
            "75/75 [==============================] - 1s 13ms/step - loss: 0.0476 - accuracy: 0.9779\n",
            "Epoch 15/100\n",
            "75/75 [==============================] - 1s 12ms/step - loss: 0.0455 - accuracy: 0.9817\n",
            "Epoch 16/100\n",
            "75/75 [==============================] - 1s 12ms/step - loss: 0.0439 - accuracy: 0.9800\n",
            "Epoch 17/100\n",
            "75/75 [==============================] - 1s 12ms/step - loss: 0.0441 - accuracy: 0.9783\n",
            "Epoch 18/100\n",
            "75/75 [==============================] - 1s 12ms/step - loss: 0.0426 - accuracy: 0.9808\n",
            "Epoch 19/100\n",
            "75/75 [==============================] - 1s 13ms/step - loss: 0.0418 - accuracy: 0.9808\n",
            "Epoch 20/100\n",
            "75/75 [==============================] - 1s 12ms/step - loss: 0.0423 - accuracy: 0.9771\n",
            "Epoch 21/100\n",
            "75/75 [==============================] - 1s 12ms/step - loss: 0.0408 - accuracy: 0.9808\n",
            "Epoch 22/100\n",
            "75/75 [==============================] - 1s 12ms/step - loss: 0.0412 - accuracy: 0.9821\n",
            "Epoch 23/100\n",
            "75/75 [==============================] - 1s 12ms/step - loss: 0.0410 - accuracy: 0.9775\n",
            "Epoch 24/100\n",
            "75/75 [==============================] - 1s 12ms/step - loss: 0.0419 - accuracy: 0.9817\n",
            "Epoch 25/100\n",
            "75/75 [==============================] - 1s 12ms/step - loss: 0.0407 - accuracy: 0.9817\n",
            "Epoch 26/100\n",
            "75/75 [==============================] - 1s 12ms/step - loss: 0.0400 - accuracy: 0.9812\n",
            "Epoch 27/100\n",
            "75/75 [==============================] - 1s 12ms/step - loss: 0.0401 - accuracy: 0.9808\n",
            "Epoch 28/100\n",
            "75/75 [==============================] - 1s 12ms/step - loss: 0.0408 - accuracy: 0.9821\n",
            "Epoch 29/100\n",
            "75/75 [==============================] - 1s 12ms/step - loss: 0.0398 - accuracy: 0.9796\n",
            "Epoch 30/100\n",
            "75/75 [==============================] - 1s 12ms/step - loss: 0.0401 - accuracy: 0.9792\n",
            "Epoch 31/100\n",
            "75/75 [==============================] - 1s 13ms/step - loss: 0.0403 - accuracy: 0.9812\n",
            "Epoch 32/100\n",
            "75/75 [==============================] - 1s 12ms/step - loss: 0.0395 - accuracy: 0.9817\n",
            "Epoch 33/100\n",
            "75/75 [==============================] - 1s 12ms/step - loss: 0.0390 - accuracy: 0.9817\n",
            "Epoch 34/100\n",
            "75/75 [==============================] - 1s 13ms/step - loss: 0.0414 - accuracy: 0.9775\n",
            "Epoch 35/100\n",
            "75/75 [==============================] - 1s 13ms/step - loss: 0.0403 - accuracy: 0.9821\n",
            "Epoch 36/100\n",
            "75/75 [==============================] - 1s 12ms/step - loss: 0.0387 - accuracy: 0.9787\n",
            "Epoch 37/100\n",
            "75/75 [==============================] - 1s 13ms/step - loss: 0.0390 - accuracy: 0.9821\n",
            "Epoch 38/100\n",
            "75/75 [==============================] - 1s 13ms/step - loss: 0.0390 - accuracy: 0.9817\n",
            "Epoch 39/100\n",
            "75/75 [==============================] - 1s 12ms/step - loss: 0.0394 - accuracy: 0.9821\n",
            "Epoch 40/100\n",
            "75/75 [==============================] - 1s 12ms/step - loss: 0.0397 - accuracy: 0.9796\n",
            "Epoch 41/100\n",
            "75/75 [==============================] - 1s 13ms/step - loss: 0.0396 - accuracy: 0.9817\n",
            "Epoch 42/100\n",
            "75/75 [==============================] - 1s 12ms/step - loss: 0.0385 - accuracy: 0.9783\n",
            "Epoch 43/100\n",
            "75/75 [==============================] - 1s 13ms/step - loss: 0.0384 - accuracy: 0.9817\n",
            "Epoch 44/100\n",
            "75/75 [==============================] - 1s 13ms/step - loss: 0.0396 - accuracy: 0.9808\n",
            "Epoch 45/100\n",
            "75/75 [==============================] - 1s 13ms/step - loss: 0.0389 - accuracy: 0.9817\n",
            "Epoch 46/100\n",
            "75/75 [==============================] - 1s 13ms/step - loss: 0.0399 - accuracy: 0.9817\n",
            "Epoch 47/100\n",
            "75/75 [==============================] - 1s 13ms/step - loss: 0.0385 - accuracy: 0.9812\n",
            "Epoch 48/100\n",
            "75/75 [==============================] - 1s 13ms/step - loss: 0.0393 - accuracy: 0.9783\n",
            "Epoch 49/100\n",
            "75/75 [==============================] - 1s 13ms/step - loss: 0.0389 - accuracy: 0.9821\n",
            "Epoch 50/100\n",
            "75/75 [==============================] - 1s 13ms/step - loss: 0.0389 - accuracy: 0.9817\n",
            "Epoch 51/100\n",
            "75/75 [==============================] - 1s 13ms/step - loss: 0.0379 - accuracy: 0.9817\n",
            "Epoch 52/100\n",
            "75/75 [==============================] - 1s 13ms/step - loss: 0.0384 - accuracy: 0.9808\n",
            "Epoch 53/100\n",
            "75/75 [==============================] - 1s 13ms/step - loss: 0.0390 - accuracy: 0.9821\n",
            "Epoch 54/100\n",
            "75/75 [==============================] - 1s 13ms/step - loss: 0.0391 - accuracy: 0.9796\n",
            "Epoch 55/100\n",
            "75/75 [==============================] - 1s 13ms/step - loss: 0.0385 - accuracy: 0.9792\n",
            "Epoch 56/100\n",
            "75/75 [==============================] - 1s 13ms/step - loss: 0.0392 - accuracy: 0.9779\n",
            "Epoch 57/100\n",
            "75/75 [==============================] - 1s 13ms/step - loss: 0.0396 - accuracy: 0.9812\n",
            "Epoch 58/100\n",
            "75/75 [==============================] - 1s 13ms/step - loss: 0.0376 - accuracy: 0.9812\n",
            "Epoch 59/100\n",
            "75/75 [==============================] - 1s 13ms/step - loss: 0.0401 - accuracy: 0.9817\n",
            "Epoch 60/100\n",
            "75/75 [==============================] - 1s 13ms/step - loss: 0.0402 - accuracy: 0.9779\n",
            "Epoch 61/100\n",
            "75/75 [==============================] - 1s 13ms/step - loss: 0.0389 - accuracy: 0.9821\n",
            "Epoch 62/100\n",
            "75/75 [==============================] - 1s 13ms/step - loss: 0.0397 - accuracy: 0.9804\n",
            "Epoch 63/100\n",
            "75/75 [==============================] - 1s 13ms/step - loss: 0.0386 - accuracy: 0.9817\n",
            "Epoch 64/100\n",
            "75/75 [==============================] - 1s 13ms/step - loss: 0.0386 - accuracy: 0.9817\n",
            "Epoch 65/100\n",
            "75/75 [==============================] - 1s 13ms/step - loss: 0.0381 - accuracy: 0.9812\n",
            "Epoch 66/100\n",
            "75/75 [==============================] - 1s 13ms/step - loss: 0.0388 - accuracy: 0.9812\n",
            "Epoch 67/100\n",
            "75/75 [==============================] - 1s 13ms/step - loss: 0.0381 - accuracy: 0.9812\n",
            "Epoch 68/100\n",
            "75/75 [==============================] - 1s 13ms/step - loss: 0.0386 - accuracy: 0.9812\n",
            "Epoch 69/100\n",
            "75/75 [==============================] - 1s 13ms/step - loss: 0.0386 - accuracy: 0.9812\n",
            "Epoch 70/100\n",
            "75/75 [==============================] - 1s 13ms/step - loss: 0.0401 - accuracy: 0.9817\n",
            "Epoch 71/100\n",
            "75/75 [==============================] - 1s 13ms/step - loss: 0.0378 - accuracy: 0.9821\n",
            "Epoch 72/100\n",
            "75/75 [==============================] - 1s 13ms/step - loss: 0.0387 - accuracy: 0.9817\n",
            "Epoch 73/100\n",
            "75/75 [==============================] - 1s 12ms/step - loss: 0.0380 - accuracy: 0.9812\n",
            "Epoch 74/100\n",
            "75/75 [==============================] - 1s 13ms/step - loss: 0.0390 - accuracy: 0.9817\n",
            "Epoch 75/100\n",
            "75/75 [==============================] - 1s 13ms/step - loss: 0.0385 - accuracy: 0.9812\n",
            "Epoch 76/100\n",
            "75/75 [==============================] - 1s 13ms/step - loss: 0.0385 - accuracy: 0.9821\n",
            "Epoch 77/100\n",
            "75/75 [==============================] - 1s 13ms/step - loss: 0.0397 - accuracy: 0.9821\n",
            "Epoch 78/100\n",
            "75/75 [==============================] - 1s 13ms/step - loss: 0.0398 - accuracy: 0.9800\n",
            "Epoch 79/100\n",
            "75/75 [==============================] - 1s 12ms/step - loss: 0.0384 - accuracy: 0.9808\n",
            "Epoch 80/100\n",
            "75/75 [==============================] - 1s 13ms/step - loss: 0.0385 - accuracy: 0.9821\n",
            "Epoch 81/100\n",
            "75/75 [==============================] - 1s 13ms/step - loss: 0.0385 - accuracy: 0.9817\n",
            "Epoch 82/100\n",
            "75/75 [==============================] - 1s 13ms/step - loss: 0.0390 - accuracy: 0.9817\n",
            "Epoch 83/100\n",
            "75/75 [==============================] - 1s 13ms/step - loss: 0.0391 - accuracy: 0.9817\n",
            "Epoch 84/100\n",
            "75/75 [==============================] - 1s 13ms/step - loss: 0.0389 - accuracy: 0.9821\n",
            "Epoch 85/100\n",
            "75/75 [==============================] - 1s 13ms/step - loss: 0.0380 - accuracy: 0.9817\n",
            "Epoch 86/100\n",
            "75/75 [==============================] - 1s 13ms/step - loss: 0.0377 - accuracy: 0.9817\n",
            "Epoch 87/100\n",
            "75/75 [==============================] - 1s 13ms/step - loss: 0.0388 - accuracy: 0.9812\n",
            "Epoch 88/100\n",
            "75/75 [==============================] - 1s 13ms/step - loss: 0.0389 - accuracy: 0.9812\n",
            "Epoch 89/100\n",
            "75/75 [==============================] - 1s 13ms/step - loss: 0.0384 - accuracy: 0.9821\n",
            "Epoch 90/100\n",
            "75/75 [==============================] - 1s 13ms/step - loss: 0.0385 - accuracy: 0.9817\n",
            "Epoch 91/100\n",
            "75/75 [==============================] - 1s 13ms/step - loss: 0.0384 - accuracy: 0.9812\n",
            "Epoch 92/100\n",
            "75/75 [==============================] - 1s 13ms/step - loss: 0.0386 - accuracy: 0.9821\n",
            "Epoch 93/100\n",
            "75/75 [==============================] - 1s 12ms/step - loss: 0.0379 - accuracy: 0.9821\n",
            "Epoch 94/100\n",
            "75/75 [==============================] - 1s 13ms/step - loss: 0.0383 - accuracy: 0.9808\n",
            "Epoch 95/100\n",
            "75/75 [==============================] - 1s 13ms/step - loss: 0.0383 - accuracy: 0.9817\n",
            "Epoch 96/100\n",
            "75/75 [==============================] - 1s 13ms/step - loss: 0.0391 - accuracy: 0.9817\n",
            "Epoch 97/100\n",
            "75/75 [==============================] - 1s 13ms/step - loss: 0.0393 - accuracy: 0.9812\n",
            "Epoch 98/100\n",
            "75/75 [==============================] - 1s 12ms/step - loss: 0.0396 - accuracy: 0.9808\n",
            "Epoch 99/100\n",
            "75/75 [==============================] - 1s 13ms/step - loss: 0.0382 - accuracy: 0.9817\n",
            "Epoch 100/100\n",
            "75/75 [==============================] - 1s 12ms/step - loss: 0.0386 - accuracy: 0.9812\n"
          ],
          "name": "stdout"
        },
        {
          "output_type": "execute_result",
          "data": {
            "text/plain": [
              "<tensorflow.python.keras.callbacks.History at 0x7f9c70694fd0>"
            ]
          },
          "metadata": {
            "tags": []
          },
          "execution_count": 36
        }
      ]
    },
    {
      "cell_type": "code",
      "metadata": {
        "id": "9cUbmq40ZrcE",
        "colab": {
          "base_uri": "https://localhost:8080/"
        },
        "outputId": "f278dad0-bb04-4e21-f8f8-155d0f720302"
      },
      "source": [
        "# Lets evaluate our model\n",
        "loss, accuracy = model.evaluate(padded_test_set, ytest, verbose=0)\n",
        "print(\"validation loss: \", loss, \"test accuracy: \", accuracy*100,\"%\")"
      ],
      "execution_count": 37,
      "outputs": [
        {
          "output_type": "stream",
          "text": [
            "validation loss:  0.2437427043914795 test accuracy:  92.66666769981384 %\n"
          ],
          "name": "stdout"
        }
      ]
    },
    {
      "cell_type": "code",
      "metadata": {
        "id": "PyYkavg1e9pu"
      },
      "source": [
        "from tensorflow.keras.layers import Dropout"
      ],
      "execution_count": 38,
      "outputs": []
    },
    {
      "cell_type": "code",
      "metadata": {
        "colab": {
          "base_uri": "https://localhost:8080/"
        },
        "id": "AmP43bK8rG9_",
        "outputId": "f376e92d-289f-47a0-fe9b-fb83bdf8b1b6"
      },
      "source": [
        "opt = Adam(lr = 0.0001)\n",
        "loss = 'binary_crossentropy'\n",
        "\n",
        "# Lets optimize our model\n",
        "model = Sequential()\n",
        "model.add(Embedding(sequences, 50, weights=[embedding_matrix], input_length=6))\n",
        "model.add(LSTM(100))\n",
        "model.add(Dropout(0.3))\n",
        "model.add(Flatten())\n",
        "model.add(Dense(10, activation= 'relu'))\n",
        "model.add(Dense(1, activation= 'sigmoid' ))\n",
        "# compile network\n",
        "model.compile(optimizer=opt, loss = loss, metrics=['accuracy'])\n",
        "# summarize defined model\n",
        "model.summary()"
      ],
      "execution_count": 40,
      "outputs": [
        {
          "output_type": "stream",
          "text": [
            "Model: \"sequential_3\"\n",
            "_________________________________________________________________\n",
            "Layer (type)                 Output Shape              Param #   \n",
            "=================================================================\n",
            "embedding_3 (Embedding)      (None, 6, 50)             1516100   \n",
            "_________________________________________________________________\n",
            "lstm (LSTM)                  (None, 100)               60400     \n",
            "_________________________________________________________________\n",
            "dropout (Dropout)            (None, 100)               0         \n",
            "_________________________________________________________________\n",
            "flatten_1 (Flatten)          (None, 100)               0         \n",
            "_________________________________________________________________\n",
            "dense_2 (Dense)              (None, 10)                1010      \n",
            "_________________________________________________________________\n",
            "dense_3 (Dense)              (None, 1)                 11        \n",
            "=================================================================\n",
            "Total params: 1,577,521\n",
            "Trainable params: 1,577,521\n",
            "Non-trainable params: 0\n",
            "_________________________________________________________________\n"
          ],
          "name": "stdout"
        }
      ]
    },
    {
      "cell_type": "code",
      "metadata": {
        "colab": {
          "base_uri": "https://localhost:8080/"
        },
        "id": "UTma6cJBsAQW",
        "outputId": "3bcc38f8-00de-4a80-fb12-c287af5916cf"
      },
      "source": [
        "#Fitting the data into the model\n",
        "model.fit(padded_train_set, ytrain, epochs=100, verbose=1)"
      ],
      "execution_count": 41,
      "outputs": [
        {
          "output_type": "stream",
          "text": [
            "Epoch 1/100\n",
            "75/75 [==============================] - 1s 14ms/step - loss: 0.5471 - accuracy: 0.7725\n",
            "Epoch 2/100\n",
            "75/75 [==============================] - 1s 15ms/step - loss: 0.4296 - accuracy: 0.8329\n",
            "Epoch 3/100\n",
            "75/75 [==============================] - 1s 15ms/step - loss: 0.4066 - accuracy: 0.8325\n",
            "Epoch 4/100\n",
            "75/75 [==============================] - 1s 15ms/step - loss: 0.3814 - accuracy: 0.8342\n",
            "Epoch 5/100\n",
            "75/75 [==============================] - 1s 15ms/step - loss: 0.3605 - accuracy: 0.8404\n",
            "Epoch 6/100\n",
            "75/75 [==============================] - 1s 15ms/step - loss: 0.3305 - accuracy: 0.8583\n",
            "Epoch 7/100\n",
            "75/75 [==============================] - 1s 15ms/step - loss: 0.3022 - accuracy: 0.8833\n",
            "Epoch 8/100\n",
            "75/75 [==============================] - 1s 15ms/step - loss: 0.2830 - accuracy: 0.8942\n",
            "Epoch 9/100\n",
            "75/75 [==============================] - 1s 15ms/step - loss: 0.2610 - accuracy: 0.9033\n",
            "Epoch 10/100\n",
            "75/75 [==============================] - 1s 15ms/step - loss: 0.2457 - accuracy: 0.9121\n",
            "Epoch 11/100\n",
            "75/75 [==============================] - 1s 15ms/step - loss: 0.2335 - accuracy: 0.9150\n",
            "Epoch 12/100\n",
            "75/75 [==============================] - 1s 14ms/step - loss: 0.2216 - accuracy: 0.9192\n",
            "Epoch 13/100\n",
            "75/75 [==============================] - 1s 14ms/step - loss: 0.2099 - accuracy: 0.9233\n",
            "Epoch 14/100\n",
            "75/75 [==============================] - 1s 14ms/step - loss: 0.1977 - accuracy: 0.9254\n",
            "Epoch 15/100\n",
            "75/75 [==============================] - 1s 14ms/step - loss: 0.1880 - accuracy: 0.9262\n",
            "Epoch 16/100\n",
            "75/75 [==============================] - 1s 14ms/step - loss: 0.1799 - accuracy: 0.9317\n",
            "Epoch 17/100\n",
            "75/75 [==============================] - 1s 14ms/step - loss: 0.1679 - accuracy: 0.9342\n",
            "Epoch 18/100\n",
            "75/75 [==============================] - 1s 14ms/step - loss: 0.1599 - accuracy: 0.9371\n",
            "Epoch 19/100\n",
            "75/75 [==============================] - 1s 14ms/step - loss: 0.1542 - accuracy: 0.9404\n",
            "Epoch 20/100\n",
            "75/75 [==============================] - 1s 14ms/step - loss: 0.1459 - accuracy: 0.9413\n",
            "Epoch 21/100\n",
            "75/75 [==============================] - 1s 14ms/step - loss: 0.1378 - accuracy: 0.9433\n",
            "Epoch 22/100\n",
            "75/75 [==============================] - 1s 14ms/step - loss: 0.1319 - accuracy: 0.9496\n",
            "Epoch 23/100\n",
            "75/75 [==============================] - 1s 14ms/step - loss: 0.1247 - accuracy: 0.9513\n",
            "Epoch 24/100\n",
            "75/75 [==============================] - 1s 14ms/step - loss: 0.1187 - accuracy: 0.9521\n",
            "Epoch 25/100\n",
            "75/75 [==============================] - 1s 14ms/step - loss: 0.1156 - accuracy: 0.9546\n",
            "Epoch 26/100\n",
            "75/75 [==============================] - 1s 14ms/step - loss: 0.1072 - accuracy: 0.9567\n",
            "Epoch 27/100\n",
            "75/75 [==============================] - 1s 14ms/step - loss: 0.1072 - accuracy: 0.9583\n",
            "Epoch 28/100\n",
            "75/75 [==============================] - 1s 14ms/step - loss: 0.1063 - accuracy: 0.9583\n",
            "Epoch 29/100\n",
            "75/75 [==============================] - 1s 14ms/step - loss: 0.0992 - accuracy: 0.9621\n",
            "Epoch 30/100\n",
            "75/75 [==============================] - 1s 14ms/step - loss: 0.0913 - accuracy: 0.9654\n",
            "Epoch 31/100\n",
            "75/75 [==============================] - 1s 14ms/step - loss: 0.0905 - accuracy: 0.9629\n",
            "Epoch 32/100\n",
            "75/75 [==============================] - 1s 14ms/step - loss: 0.0855 - accuracy: 0.9704\n",
            "Epoch 33/100\n",
            "75/75 [==============================] - 1s 14ms/step - loss: 0.0859 - accuracy: 0.9650\n",
            "Epoch 34/100\n",
            "75/75 [==============================] - 1s 14ms/step - loss: 0.0773 - accuracy: 0.9708\n",
            "Epoch 35/100\n",
            "75/75 [==============================] - 1s 14ms/step - loss: 0.0781 - accuracy: 0.9721\n",
            "Epoch 36/100\n",
            "75/75 [==============================] - 1s 14ms/step - loss: 0.0723 - accuracy: 0.9712\n",
            "Epoch 37/100\n",
            "75/75 [==============================] - 1s 14ms/step - loss: 0.0706 - accuracy: 0.9717\n",
            "Epoch 38/100\n",
            "75/75 [==============================] - 1s 14ms/step - loss: 0.0711 - accuracy: 0.9704\n",
            "Epoch 39/100\n",
            "75/75 [==============================] - 1s 14ms/step - loss: 0.0684 - accuracy: 0.9750\n",
            "Epoch 40/100\n",
            "75/75 [==============================] - 1s 14ms/step - loss: 0.0671 - accuracy: 0.9733\n",
            "Epoch 41/100\n",
            "75/75 [==============================] - 1s 14ms/step - loss: 0.0668 - accuracy: 0.9729\n",
            "Epoch 42/100\n",
            "75/75 [==============================] - 1s 14ms/step - loss: 0.0623 - accuracy: 0.9767\n",
            "Epoch 43/100\n",
            "75/75 [==============================] - 1s 14ms/step - loss: 0.0617 - accuracy: 0.9754\n",
            "Epoch 44/100\n",
            "75/75 [==============================] - 1s 14ms/step - loss: 0.0593 - accuracy: 0.9775\n",
            "Epoch 45/100\n",
            "75/75 [==============================] - 1s 14ms/step - loss: 0.0638 - accuracy: 0.9733\n",
            "Epoch 46/100\n",
            "75/75 [==============================] - 1s 14ms/step - loss: 0.0575 - accuracy: 0.9767\n",
            "Epoch 47/100\n",
            "75/75 [==============================] - 1s 14ms/step - loss: 0.0608 - accuracy: 0.9737\n",
            "Epoch 48/100\n",
            "75/75 [==============================] - 1s 14ms/step - loss: 0.0600 - accuracy: 0.9737\n",
            "Epoch 49/100\n",
            "75/75 [==============================] - 1s 14ms/step - loss: 0.0573 - accuracy: 0.9767\n",
            "Epoch 50/100\n",
            "75/75 [==============================] - 1s 15ms/step - loss: 0.0579 - accuracy: 0.9771\n",
            "Epoch 51/100\n",
            "75/75 [==============================] - 1s 14ms/step - loss: 0.0521 - accuracy: 0.9804\n",
            "Epoch 52/100\n",
            "75/75 [==============================] - 1s 14ms/step - loss: 0.0555 - accuracy: 0.9742\n",
            "Epoch 53/100\n",
            "75/75 [==============================] - 1s 14ms/step - loss: 0.0564 - accuracy: 0.9754\n",
            "Epoch 54/100\n",
            "75/75 [==============================] - 1s 14ms/step - loss: 0.0547 - accuracy: 0.9758\n",
            "Epoch 55/100\n",
            "75/75 [==============================] - 1s 14ms/step - loss: 0.0509 - accuracy: 0.9783\n",
            "Epoch 56/100\n",
            "75/75 [==============================] - 1s 14ms/step - loss: 0.0528 - accuracy: 0.9746\n",
            "Epoch 57/100\n",
            "75/75 [==============================] - 1s 14ms/step - loss: 0.0530 - accuracy: 0.9783\n",
            "Epoch 58/100\n",
            "75/75 [==============================] - 1s 14ms/step - loss: 0.0517 - accuracy: 0.9787\n",
            "Epoch 59/100\n",
            "75/75 [==============================] - 1s 14ms/step - loss: 0.0510 - accuracy: 0.9775\n",
            "Epoch 60/100\n",
            "75/75 [==============================] - 1s 14ms/step - loss: 0.0478 - accuracy: 0.9800\n",
            "Epoch 61/100\n",
            "75/75 [==============================] - 1s 14ms/step - loss: 0.0502 - accuracy: 0.9812\n",
            "Epoch 62/100\n",
            "75/75 [==============================] - 1s 13ms/step - loss: 0.0493 - accuracy: 0.9804\n",
            "Epoch 63/100\n",
            "75/75 [==============================] - 1s 14ms/step - loss: 0.0477 - accuracy: 0.9775\n",
            "Epoch 64/100\n",
            "75/75 [==============================] - 1s 14ms/step - loss: 0.0491 - accuracy: 0.9796\n",
            "Epoch 65/100\n",
            "75/75 [==============================] - 1s 14ms/step - loss: 0.0455 - accuracy: 0.9825\n",
            "Epoch 66/100\n",
            "75/75 [==============================] - 1s 14ms/step - loss: 0.0459 - accuracy: 0.9804\n",
            "Epoch 67/100\n",
            "75/75 [==============================] - 1s 14ms/step - loss: 0.0467 - accuracy: 0.9779\n",
            "Epoch 68/100\n",
            "75/75 [==============================] - 1s 14ms/step - loss: 0.0463 - accuracy: 0.9800\n",
            "Epoch 69/100\n",
            "75/75 [==============================] - 1s 14ms/step - loss: 0.0477 - accuracy: 0.9767\n",
            "Epoch 70/100\n",
            "75/75 [==============================] - 1s 14ms/step - loss: 0.0468 - accuracy: 0.9792\n",
            "Epoch 71/100\n",
            "75/75 [==============================] - 1s 14ms/step - loss: 0.0447 - accuracy: 0.9783\n",
            "Epoch 72/100\n",
            "75/75 [==============================] - 1s 14ms/step - loss: 0.0463 - accuracy: 0.9792\n",
            "Epoch 73/100\n",
            "75/75 [==============================] - 1s 14ms/step - loss: 0.0455 - accuracy: 0.9779\n",
            "Epoch 74/100\n",
            "75/75 [==============================] - 1s 14ms/step - loss: 0.0444 - accuracy: 0.9804\n",
            "Epoch 75/100\n",
            "75/75 [==============================] - 1s 14ms/step - loss: 0.0454 - accuracy: 0.9775\n",
            "Epoch 76/100\n",
            "75/75 [==============================] - 1s 14ms/step - loss: 0.0449 - accuracy: 0.9796\n",
            "Epoch 77/100\n",
            "75/75 [==============================] - 1s 14ms/step - loss: 0.0444 - accuracy: 0.9808\n",
            "Epoch 78/100\n",
            "75/75 [==============================] - 1s 14ms/step - loss: 0.0444 - accuracy: 0.9783\n",
            "Epoch 79/100\n",
            "75/75 [==============================] - 1s 14ms/step - loss: 0.0422 - accuracy: 0.9804\n",
            "Epoch 80/100\n",
            "75/75 [==============================] - 1s 14ms/step - loss: 0.0418 - accuracy: 0.9812\n",
            "Epoch 81/100\n",
            "75/75 [==============================] - 1s 14ms/step - loss: 0.0422 - accuracy: 0.9792\n",
            "Epoch 82/100\n",
            "75/75 [==============================] - 1s 14ms/step - loss: 0.0440 - accuracy: 0.9771\n",
            "Epoch 83/100\n",
            "75/75 [==============================] - 1s 14ms/step - loss: 0.0434 - accuracy: 0.9812\n",
            "Epoch 84/100\n",
            "75/75 [==============================] - 1s 14ms/step - loss: 0.0431 - accuracy: 0.9804\n",
            "Epoch 85/100\n",
            "75/75 [==============================] - 1s 14ms/step - loss: 0.0412 - accuracy: 0.9804\n",
            "Epoch 86/100\n",
            "75/75 [==============================] - 1s 14ms/step - loss: 0.0414 - accuracy: 0.9804\n",
            "Epoch 87/100\n",
            "75/75 [==============================] - 1s 14ms/step - loss: 0.0429 - accuracy: 0.9812\n",
            "Epoch 88/100\n",
            "75/75 [==============================] - 1s 14ms/step - loss: 0.0432 - accuracy: 0.9800\n",
            "Epoch 89/100\n",
            "75/75 [==============================] - 1s 14ms/step - loss: 0.0425 - accuracy: 0.9808\n",
            "Epoch 90/100\n",
            "75/75 [==============================] - 1s 14ms/step - loss: 0.0395 - accuracy: 0.9817\n",
            "Epoch 91/100\n",
            "75/75 [==============================] - 1s 14ms/step - loss: 0.0399 - accuracy: 0.9817\n",
            "Epoch 92/100\n",
            "75/75 [==============================] - 1s 14ms/step - loss: 0.0432 - accuracy: 0.9792\n",
            "Epoch 93/100\n",
            "75/75 [==============================] - 1s 14ms/step - loss: 0.0404 - accuracy: 0.9808\n",
            "Epoch 94/100\n",
            "75/75 [==============================] - 1s 14ms/step - loss: 0.0413 - accuracy: 0.9812\n",
            "Epoch 95/100\n",
            "75/75 [==============================] - 1s 14ms/step - loss: 0.0393 - accuracy: 0.9804\n",
            "Epoch 96/100\n",
            "75/75 [==============================] - 1s 14ms/step - loss: 0.0415 - accuracy: 0.9812\n",
            "Epoch 97/100\n",
            "75/75 [==============================] - 1s 14ms/step - loss: 0.0419 - accuracy: 0.9804\n",
            "Epoch 98/100\n",
            "75/75 [==============================] - 1s 14ms/step - loss: 0.0416 - accuracy: 0.9804\n",
            "Epoch 99/100\n",
            "75/75 [==============================] - 1s 14ms/step - loss: 0.0400 - accuracy: 0.9812\n",
            "Epoch 100/100\n",
            "75/75 [==============================] - 1s 14ms/step - loss: 0.0404 - accuracy: 0.9812\n"
          ],
          "name": "stdout"
        },
        {
          "output_type": "execute_result",
          "data": {
            "text/plain": [
              "<tensorflow.python.keras.callbacks.History at 0x7f9c7031a4e0>"
            ]
          },
          "metadata": {
            "tags": []
          },
          "execution_count": 41
        }
      ]
    },
    {
      "cell_type": "code",
      "metadata": {
        "colab": {
          "base_uri": "https://localhost:8080/"
        },
        "id": "Tf0unHVPsGEx",
        "outputId": "bbbed13e-5113-4557-868f-7a0cedeed063"
      },
      "source": [
        "# Lets evaluate our model\n",
        "loss, accuracy = model.evaluate(padded_test_set, ytest, verbose=0)\n",
        "print(\"validation loss: \", loss, \"test accuracy: \", accuracy*100,\"%\")"
      ],
      "execution_count": 43,
      "outputs": [
        {
          "output_type": "stream",
          "text": [
            "validation loss:  0.2630668580532074 test accuracy:  94.33333277702332 %\n"
          ],
          "name": "stdout"
        }
      ]
    },
    {
      "cell_type": "code",
      "metadata": {
        "id": "LmqubPe8tPH6"
      },
      "source": [
        "# save model\n",
        "model.save('spam_model.h5')"
      ],
      "execution_count": 44,
      "outputs": []
    },
    {
      "cell_type": "code",
      "metadata": {
        "id": "0tJ_101XuLE7"
      },
      "source": [
        "# load model\n",
        "from keras.models import load_model\n",
        "model = load_model( 'spam_model.h5' )"
      ],
      "execution_count": 45,
      "outputs": []
    },
    {
      "cell_type": "code",
      "metadata": {
        "colab": {
          "base_uri": "https://localhost:8080/",
          "height": 17
        },
        "id": "bCsoqy9NuUyu",
        "outputId": "509e8cef-19d1-4a37-f42a-661c02c49fbf"
      },
      "source": [
        "# downloadin the model and use it in Heroku\n",
        "from google.colab import files\n",
        "files.download('spam_model.h5')"
      ],
      "execution_count": 46,
      "outputs": [
        {
          "output_type": "display_data",
          "data": {
            "application/javascript": [
              "\n",
              "    async function download(id, filename, size) {\n",
              "      if (!google.colab.kernel.accessAllowed) {\n",
              "        return;\n",
              "      }\n",
              "      const div = document.createElement('div');\n",
              "      const label = document.createElement('label');\n",
              "      label.textContent = `Downloading \"${filename}\": `;\n",
              "      div.appendChild(label);\n",
              "      const progress = document.createElement('progress');\n",
              "      progress.max = size;\n",
              "      div.appendChild(progress);\n",
              "      document.body.appendChild(div);\n",
              "\n",
              "      const buffers = [];\n",
              "      let downloaded = 0;\n",
              "\n",
              "      const channel = await google.colab.kernel.comms.open(id);\n",
              "      // Send a message to notify the kernel that we're ready.\n",
              "      channel.send({})\n",
              "\n",
              "      for await (const message of channel.messages) {\n",
              "        // Send a message to notify the kernel that we're ready.\n",
              "        channel.send({})\n",
              "        if (message.buffers) {\n",
              "          for (const buffer of message.buffers) {\n",
              "            buffers.push(buffer);\n",
              "            downloaded += buffer.byteLength;\n",
              "            progress.value = downloaded;\n",
              "          }\n",
              "        }\n",
              "      }\n",
              "      const blob = new Blob(buffers, {type: 'application/binary'});\n",
              "      const a = document.createElement('a');\n",
              "      a.href = window.URL.createObjectURL(blob);\n",
              "      a.download = filename;\n",
              "      div.appendChild(a);\n",
              "      a.click();\n",
              "      div.remove();\n",
              "    }\n",
              "  "
            ],
            "text/plain": [
              "<IPython.core.display.Javascript object>"
            ]
          },
          "metadata": {
            "tags": []
          }
        },
        {
          "output_type": "display_data",
          "data": {
            "application/javascript": [
              "download(\"download_0e4ad64a-1662-4050-bb59-6431af4e3e90\", \"spam_model.h5\", 18972744)"
            ],
            "text/plain": [
              "<IPython.core.display.Javascript object>"
            ]
          },
          "metadata": {
            "tags": []
          }
        }
      ]
    },
    {
      "cell_type": "code",
      "metadata": {
        "id": "l8-sFMGiwGle"
      },
      "source": [
        ""
      ],
      "execution_count": null,
      "outputs": []
    }
  ]
}